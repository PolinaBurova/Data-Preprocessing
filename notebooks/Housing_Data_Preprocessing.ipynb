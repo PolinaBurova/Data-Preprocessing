{
 "cells": [
  {
   "cell_type": "markdown",
   "id": "0544ba21-92ea-4b94-b760-c8201de8e802",
   "metadata": {},
   "source": [
    "The housing dataset project begins by establishing a starting point for predicting house prices with machine learning. Data preprocessing, including cleaning and handling missing values, is carried out before scaling numerical features. Models are developed step by step, starting from simpler ones and gradually becoming more complex, with each iteration evaluated against the baseline to measure improvement. This approach is crucial for ensuring accurate and meaningful insights in subsequent analyses."
   ]
  },
  {
   "cell_type": "markdown",
   "id": "43a2dddb-b5d6-438d-a293-d931cfe57f0c",
   "metadata": {},
   "source": [
    "Variables to be used:\n",
    "* \"YearBuilt\": Original construction date\n",
    "* \"LotFrontage\": Linear feet of street connected to property\n",
    "* \"MasVnrType\": Masonry veneer type\n",
    "* \"OverallQual\": Rates the overall material and finish of the house\n",
    "* \"GrLivArea\": Above grade (ground) living area square feet\n",
    "* \"GarageCars\": Size of garage in car capacity\n",
    "\n",
    "\"SalePrice\" will be used to create a target variable to predict house prices based on the selected features."
   ]
  },
  {
   "cell_type": "markdown",
   "id": "9082a0e3-d32b-480b-b1ac-b1b3ef19fee8",
   "metadata": {},
   "source": [
    "* Let's import the dataframe:"
   ]
  },
  {
   "cell_type": "code",
   "execution_count": 1,
   "id": "9411ab3f-610b-44c0-ae43-84187cc60ced",
   "metadata": {},
   "outputs": [],
   "source": [
    "import pandas as pd\n",
    "houses = pd.read_csv(\"data/house_prices_final_project.csv\")"
   ]
  },
  {
   "cell_type": "code",
   "execution_count": 2,
   "id": "c6dce636-1edd-4d63-a124-a266449acfe5",
   "metadata": {
    "scrolled": true
   },
   "outputs": [
    {
     "data": {
      "text/html": [
       "<div>\n",
       "<style scoped>\n",
       "    .dataframe tbody tr th:only-of-type {\n",
       "        vertical-align: middle;\n",
       "    }\n",
       "\n",
       "    .dataframe tbody tr th {\n",
       "        vertical-align: top;\n",
       "    }\n",
       "\n",
       "    .dataframe thead th {\n",
       "        text-align: right;\n",
       "    }\n",
       "</style>\n",
       "<table border=\"1\" class=\"dataframe\">\n",
       "  <thead>\n",
       "    <tr style=\"text-align: right;\">\n",
       "      <th></th>\n",
       "      <th>Id</th>\n",
       "      <th>MSSubClass</th>\n",
       "      <th>MSZoning</th>\n",
       "      <th>LotFrontage</th>\n",
       "      <th>LotArea</th>\n",
       "      <th>Street</th>\n",
       "      <th>Alley</th>\n",
       "      <th>LotShape</th>\n",
       "      <th>LandContour</th>\n",
       "      <th>Utilities</th>\n",
       "      <th>...</th>\n",
       "      <th>PoolArea</th>\n",
       "      <th>PoolQC</th>\n",
       "      <th>Fence</th>\n",
       "      <th>MiscFeature</th>\n",
       "      <th>MiscVal</th>\n",
       "      <th>MoSold</th>\n",
       "      <th>YrSold</th>\n",
       "      <th>SaleType</th>\n",
       "      <th>SaleCondition</th>\n",
       "      <th>SalePrice</th>\n",
       "    </tr>\n",
       "  </thead>\n",
       "  <tbody>\n",
       "    <tr>\n",
       "      <th>0</th>\n",
       "      <td>1</td>\n",
       "      <td>60</td>\n",
       "      <td>RL</td>\n",
       "      <td>65.0</td>\n",
       "      <td>8450</td>\n",
       "      <td>Pave</td>\n",
       "      <td>NaN</td>\n",
       "      <td>Reg</td>\n",
       "      <td>Lvl</td>\n",
       "      <td>AllPub</td>\n",
       "      <td>...</td>\n",
       "      <td>0</td>\n",
       "      <td>NaN</td>\n",
       "      <td>NaN</td>\n",
       "      <td>NaN</td>\n",
       "      <td>0</td>\n",
       "      <td>2</td>\n",
       "      <td>2008</td>\n",
       "      <td>WD</td>\n",
       "      <td>Normal</td>\n",
       "      <td>208500</td>\n",
       "    </tr>\n",
       "    <tr>\n",
       "      <th>1</th>\n",
       "      <td>2</td>\n",
       "      <td>20</td>\n",
       "      <td>RL</td>\n",
       "      <td>80.0</td>\n",
       "      <td>9600</td>\n",
       "      <td>Pave</td>\n",
       "      <td>NaN</td>\n",
       "      <td>Reg</td>\n",
       "      <td>Lvl</td>\n",
       "      <td>AllPub</td>\n",
       "      <td>...</td>\n",
       "      <td>0</td>\n",
       "      <td>NaN</td>\n",
       "      <td>NaN</td>\n",
       "      <td>NaN</td>\n",
       "      <td>0</td>\n",
       "      <td>5</td>\n",
       "      <td>2007</td>\n",
       "      <td>WD</td>\n",
       "      <td>Normal</td>\n",
       "      <td>181500</td>\n",
       "    </tr>\n",
       "  </tbody>\n",
       "</table>\n",
       "<p>2 rows × 81 columns</p>\n",
       "</div>"
      ],
      "text/plain": [
       "   Id  MSSubClass MSZoning  LotFrontage  LotArea Street Alley LotShape  \\\n",
       "0   1          60       RL         65.0     8450   Pave   NaN      Reg   \n",
       "1   2          20       RL         80.0     9600   Pave   NaN      Reg   \n",
       "\n",
       "  LandContour Utilities  ... PoolArea PoolQC Fence MiscFeature MiscVal MoSold  \\\n",
       "0         Lvl    AllPub  ...        0    NaN   NaN         NaN       0      2   \n",
       "1         Lvl    AllPub  ...        0    NaN   NaN         NaN       0      5   \n",
       "\n",
       "  YrSold  SaleType  SaleCondition  SalePrice  \n",
       "0   2008        WD         Normal     208500  \n",
       "1   2007        WD         Normal     181500  \n",
       "\n",
       "[2 rows x 81 columns]"
      ]
     },
     "execution_count": 2,
     "metadata": {},
     "output_type": "execute_result"
    }
   ],
   "source": [
    "houses.head(2)"
   ]
  },
  {
   "cell_type": "markdown",
   "id": "010cefdd-6794-4136-963a-e466a3584752",
   "metadata": {},
   "source": [
    "Filter by the columns mentioned:"
   ]
  },
  {
   "cell_type": "code",
   "execution_count": 3,
   "id": "077ffa37-6bb5-4711-ace1-132a1584fcd3",
   "metadata": {},
   "outputs": [],
   "source": [
    "columns_list = ['YearBuilt',\n",
    "                'LotFrontage',\n",
    "                'MasVnrType',\n",
    "                'OverallQual',\n",
    "                'GrLivArea',\n",
    "                'GarageCars',\n",
    "                'SalePrice']"
   ]
  },
  {
   "cell_type": "code",
   "execution_count": 4,
   "id": "558115b3-4f17-404c-8e06-275e930c2d9b",
   "metadata": {},
   "outputs": [],
   "source": [
    "houses_df = houses[columns_list].copy()"
   ]
  },
  {
   "cell_type": "code",
   "execution_count": 5,
   "id": "5a7ff66c-7a96-4d79-b6b5-f9539db1fbbb",
   "metadata": {},
   "outputs": [
    {
     "data": {
      "text/html": [
       "<div>\n",
       "<style scoped>\n",
       "    .dataframe tbody tr th:only-of-type {\n",
       "        vertical-align: middle;\n",
       "    }\n",
       "\n",
       "    .dataframe tbody tr th {\n",
       "        vertical-align: top;\n",
       "    }\n",
       "\n",
       "    .dataframe thead th {\n",
       "        text-align: right;\n",
       "    }\n",
       "</style>\n",
       "<table border=\"1\" class=\"dataframe\">\n",
       "  <thead>\n",
       "    <tr style=\"text-align: right;\">\n",
       "      <th></th>\n",
       "      <th>YearBuilt</th>\n",
       "      <th>LotFrontage</th>\n",
       "      <th>MasVnrType</th>\n",
       "      <th>OverallQual</th>\n",
       "      <th>GrLivArea</th>\n",
       "      <th>GarageCars</th>\n",
       "      <th>SalePrice</th>\n",
       "    </tr>\n",
       "  </thead>\n",
       "  <tbody>\n",
       "    <tr>\n",
       "      <th>0</th>\n",
       "      <td>2003</td>\n",
       "      <td>65.0</td>\n",
       "      <td>BrkFace</td>\n",
       "      <td>7</td>\n",
       "      <td>1710</td>\n",
       "      <td>2</td>\n",
       "      <td>208500</td>\n",
       "    </tr>\n",
       "    <tr>\n",
       "      <th>1</th>\n",
       "      <td>1976</td>\n",
       "      <td>80.0</td>\n",
       "      <td>NaN</td>\n",
       "      <td>6</td>\n",
       "      <td>1262</td>\n",
       "      <td>2</td>\n",
       "      <td>181500</td>\n",
       "    </tr>\n",
       "  </tbody>\n",
       "</table>\n",
       "</div>"
      ],
      "text/plain": [
       "   YearBuilt  LotFrontage MasVnrType  OverallQual  GrLivArea  GarageCars  \\\n",
       "0       2003         65.0    BrkFace            7       1710           2   \n",
       "1       1976         80.0        NaN            6       1262           2   \n",
       "\n",
       "   SalePrice  \n",
       "0     208500  \n",
       "1     181500  "
      ]
     },
     "execution_count": 5,
     "metadata": {},
     "output_type": "execute_result"
    }
   ],
   "source": [
    "houses_df.head(2)"
   ]
  },
  {
   "cell_type": "markdown",
   "id": "b5bdd43a-75c0-4639-9960-33d6b88dc551",
   "metadata": {},
   "source": [
    "* Convert any categorical data:"
   ]
  },
  {
   "cell_type": "code",
   "execution_count": 6,
   "id": "33dad2fc-027b-498f-b934-c9cae22639b5",
   "metadata": {},
   "outputs": [
    {
     "name": "stdout",
     "output_type": "stream",
     "text": [
      "<class 'pandas.core.frame.DataFrame'>\n",
      "RangeIndex: 1460 entries, 0 to 1459\n",
      "Data columns (total 7 columns):\n",
      " #   Column       Non-Null Count  Dtype  \n",
      "---  ------       --------------  -----  \n",
      " 0   YearBuilt    1460 non-null   int64  \n",
      " 1   LotFrontage  1201 non-null   float64\n",
      " 2   MasVnrType   588 non-null    object \n",
      " 3   OverallQual  1460 non-null   int64  \n",
      " 4   GrLivArea    1460 non-null   int64  \n",
      " 5   GarageCars   1460 non-null   int64  \n",
      " 6   SalePrice    1460 non-null   int64  \n",
      "dtypes: float64(1), int64(5), object(1)\n",
      "memory usage: 80.0+ KB\n"
     ]
    }
   ],
   "source": [
    "houses_df.info()"
   ]
  },
  {
   "cell_type": "markdown",
   "id": "80fa1cfd-0c35-46c9-b2f8-3d7bf1abbc54",
   "metadata": {},
   "source": [
    "* We can see that MasVnrType is the only object type feature that will be converted to categorical:"
   ]
  },
  {
   "cell_type": "code",
   "execution_count": 7,
   "id": "521d70f1-79b6-4fce-ada9-428bd5231256",
   "metadata": {},
   "outputs": [
    {
     "data": {
      "text/plain": [
       "array(['BrkFace', nan, 'Stone', 'BrkCmn'], dtype=object)"
      ]
     },
     "execution_count": 7,
     "metadata": {},
     "output_type": "execute_result"
    }
   ],
   "source": [
    "houses_df[\"MasVnrType\"].unique()"
   ]
  },
  {
   "cell_type": "code",
   "execution_count": 8,
   "id": "8e3b2889-31a0-4f81-9a6e-adfdfc247008",
   "metadata": {},
   "outputs": [
    {
     "data": {
      "text/plain": [
       "872"
      ]
     },
     "execution_count": 8,
     "metadata": {},
     "output_type": "execute_result"
    }
   ],
   "source": [
    "houses_df[\"MasVnrType\"].isnull().sum()"
   ]
  },
  {
   "cell_type": "code",
   "execution_count": 9,
   "id": "d86b96a8-6a44-45be-812b-f500298365b5",
   "metadata": {},
   "outputs": [
    {
     "data": {
      "text/plain": [
       "MasVnrType\n",
       "BrkFace    445\n",
       "Stone      128\n",
       "BrkCmn      15\n",
       "Name: count, dtype: int64"
      ]
     },
     "execution_count": 9,
     "metadata": {},
     "output_type": "execute_result"
    }
   ],
   "source": [
    "houses_df[\"MasVnrType\"].value_counts()"
   ]
  },
  {
   "cell_type": "markdown",
   "id": "3721118e-7903-407d-afe1-387c8f5c503a",
   "metadata": {},
   "source": [
    "We can see that one of the values is 'nan' (missing value), because there's a possibility of having no masonry in the house.\n",
    "We can't use null as one of the categories, so, I will fill the nan missing value with 'None', which aligns with the description of feature.\n",
    "\n",
    "Note: The 'None' value has also the highest frequency among others, so it can count as mode (most of the houses don't have a masonry).\n"
   ]
  },
  {
   "cell_type": "code",
   "execution_count": 10,
   "id": "1411ca73-098e-42af-b080-a811ceaa5614",
   "metadata": {},
   "outputs": [
    {
     "name": "stderr",
     "output_type": "stream",
     "text": [
      "C:\\Users\\polin\\AppData\\Local\\Temp\\ipykernel_32824\\1226391615.py:1: FutureWarning: A value is trying to be set on a copy of a DataFrame or Series through chained assignment using an inplace method.\n",
      "The behavior will change in pandas 3.0. This inplace method will never work because the intermediate object on which we are setting values always behaves as a copy.\n",
      "\n",
      "For example, when doing 'df[col].method(value, inplace=True)', try using 'df.method({col: value}, inplace=True)' or df[col] = df[col].method(value) instead, to perform the operation inplace on the original object.\n",
      "\n",
      "\n",
      "  houses_df[\"MasVnrType\"].fillna(\"None\", inplace = True)\n"
     ]
    }
   ],
   "source": [
    "houses_df[\"MasVnrType\"].fillna(\"None\", inplace = True)"
   ]
  },
  {
   "cell_type": "code",
   "execution_count": 11,
   "id": "2ffbf144-c293-483c-8dce-796634227a72",
   "metadata": {},
   "outputs": [
    {
     "data": {
      "text/plain": [
       "array(['BrkFace', 'None', 'Stone', 'BrkCmn'], dtype=object)"
      ]
     },
     "execution_count": 11,
     "metadata": {},
     "output_type": "execute_result"
    }
   ],
   "source": [
    "houses_df[\"MasVnrType\"].unique()"
   ]
  },
  {
   "cell_type": "code",
   "execution_count": 12,
   "id": "99ce21d1-2f39-4fb2-a75c-995d8ffa9aec",
   "metadata": {
    "scrolled": true
   },
   "outputs": [],
   "source": [
    "categories_masonry = ['BrkFace', 'None', 'Stone', 'BrkCmn']\n",
    "houses_df[\"MasVnrType\"] = pd.Categorical(houses_df[\"MasVnrType\"], categories = categories_masonry)"
   ]
  },
  {
   "cell_type": "code",
   "execution_count": 13,
   "id": "4b6c21f9-af97-4ba1-82d4-28cd28f90f5c",
   "metadata": {},
   "outputs": [
    {
     "data": {
      "text/plain": [
       "CategoricalDtype(categories=['BrkFace', 'None', 'Stone', 'BrkCmn'], ordered=False, categories_dtype=object)"
      ]
     },
     "execution_count": 13,
     "metadata": {},
     "output_type": "execute_result"
    }
   ],
   "source": [
    "houses_df[\"MasVnrType\"].dtype"
   ]
  },
  {
   "cell_type": "markdown",
   "id": "1a40ba3b-0693-47b2-ab68-2473c02f4aeb",
   "metadata": {},
   "source": [
    "* Create the target column based on SalePrice. Min->Median bucket will have assigned the value 0 while the other bucket (Median->Max) will be 1."
   ]
  },
  {
   "cell_type": "code",
   "execution_count": 14,
   "id": "8b4664b5-11e1-4e30-a0ad-02faa3b267a6",
   "metadata": {},
   "outputs": [],
   "source": [
    "houses_df[\"is_expensive\"] = (houses_df[\"SalePrice\"] > houses_df[\"SalePrice\"].median()).astype('int')"
   ]
  },
  {
   "cell_type": "code",
   "execution_count": 15,
   "id": "95b4219e-5dac-4513-82c0-04112c3041fd",
   "metadata": {
    "scrolled": true
   },
   "outputs": [
    {
     "data": {
      "text/html": [
       "<div>\n",
       "<style scoped>\n",
       "    .dataframe tbody tr th:only-of-type {\n",
       "        vertical-align: middle;\n",
       "    }\n",
       "\n",
       "    .dataframe tbody tr th {\n",
       "        vertical-align: top;\n",
       "    }\n",
       "\n",
       "    .dataframe thead th {\n",
       "        text-align: right;\n",
       "    }\n",
       "</style>\n",
       "<table border=\"1\" class=\"dataframe\">\n",
       "  <thead>\n",
       "    <tr style=\"text-align: right;\">\n",
       "      <th></th>\n",
       "      <th>YearBuilt</th>\n",
       "      <th>LotFrontage</th>\n",
       "      <th>MasVnrType</th>\n",
       "      <th>OverallQual</th>\n",
       "      <th>GrLivArea</th>\n",
       "      <th>GarageCars</th>\n",
       "      <th>SalePrice</th>\n",
       "      <th>is_expensive</th>\n",
       "    </tr>\n",
       "  </thead>\n",
       "  <tbody>\n",
       "    <tr>\n",
       "      <th>0</th>\n",
       "      <td>2003</td>\n",
       "      <td>65.0</td>\n",
       "      <td>BrkFace</td>\n",
       "      <td>7</td>\n",
       "      <td>1710</td>\n",
       "      <td>2</td>\n",
       "      <td>208500</td>\n",
       "      <td>1</td>\n",
       "    </tr>\n",
       "    <tr>\n",
       "      <th>1</th>\n",
       "      <td>1976</td>\n",
       "      <td>80.0</td>\n",
       "      <td>None</td>\n",
       "      <td>6</td>\n",
       "      <td>1262</td>\n",
       "      <td>2</td>\n",
       "      <td>181500</td>\n",
       "      <td>1</td>\n",
       "    </tr>\n",
       "    <tr>\n",
       "      <th>2</th>\n",
       "      <td>2001</td>\n",
       "      <td>68.0</td>\n",
       "      <td>BrkFace</td>\n",
       "      <td>7</td>\n",
       "      <td>1786</td>\n",
       "      <td>2</td>\n",
       "      <td>223500</td>\n",
       "      <td>1</td>\n",
       "    </tr>\n",
       "    <tr>\n",
       "      <th>4</th>\n",
       "      <td>2000</td>\n",
       "      <td>84.0</td>\n",
       "      <td>BrkFace</td>\n",
       "      <td>8</td>\n",
       "      <td>2198</td>\n",
       "      <td>3</td>\n",
       "      <td>250000</td>\n",
       "      <td>1</td>\n",
       "    </tr>\n",
       "    <tr>\n",
       "      <th>6</th>\n",
       "      <td>2004</td>\n",
       "      <td>75.0</td>\n",
       "      <td>Stone</td>\n",
       "      <td>8</td>\n",
       "      <td>1694</td>\n",
       "      <td>2</td>\n",
       "      <td>307000</td>\n",
       "      <td>1</td>\n",
       "    </tr>\n",
       "    <tr>\n",
       "      <th>...</th>\n",
       "      <td>...</td>\n",
       "      <td>...</td>\n",
       "      <td>...</td>\n",
       "      <td>...</td>\n",
       "      <td>...</td>\n",
       "      <td>...</td>\n",
       "      <td>...</td>\n",
       "      <td>...</td>\n",
       "    </tr>\n",
       "    <tr>\n",
       "      <th>1451</th>\n",
       "      <td>2008</td>\n",
       "      <td>78.0</td>\n",
       "      <td>Stone</td>\n",
       "      <td>8</td>\n",
       "      <td>1578</td>\n",
       "      <td>3</td>\n",
       "      <td>287090</td>\n",
       "      <td>1</td>\n",
       "    </tr>\n",
       "    <tr>\n",
       "      <th>1454</th>\n",
       "      <td>2004</td>\n",
       "      <td>62.0</td>\n",
       "      <td>None</td>\n",
       "      <td>7</td>\n",
       "      <td>1221</td>\n",
       "      <td>2</td>\n",
       "      <td>185000</td>\n",
       "      <td>1</td>\n",
       "    </tr>\n",
       "    <tr>\n",
       "      <th>1455</th>\n",
       "      <td>1999</td>\n",
       "      <td>62.0</td>\n",
       "      <td>None</td>\n",
       "      <td>6</td>\n",
       "      <td>1647</td>\n",
       "      <td>2</td>\n",
       "      <td>175000</td>\n",
       "      <td>1</td>\n",
       "    </tr>\n",
       "    <tr>\n",
       "      <th>1456</th>\n",
       "      <td>1978</td>\n",
       "      <td>85.0</td>\n",
       "      <td>Stone</td>\n",
       "      <td>6</td>\n",
       "      <td>2073</td>\n",
       "      <td>2</td>\n",
       "      <td>210000</td>\n",
       "      <td>1</td>\n",
       "    </tr>\n",
       "    <tr>\n",
       "      <th>1457</th>\n",
       "      <td>1941</td>\n",
       "      <td>66.0</td>\n",
       "      <td>None</td>\n",
       "      <td>7</td>\n",
       "      <td>2340</td>\n",
       "      <td>1</td>\n",
       "      <td>266500</td>\n",
       "      <td>1</td>\n",
       "    </tr>\n",
       "  </tbody>\n",
       "</table>\n",
       "<p>728 rows × 8 columns</p>\n",
       "</div>"
      ],
      "text/plain": [
       "      YearBuilt  LotFrontage MasVnrType  OverallQual  GrLivArea  GarageCars  \\\n",
       "0          2003         65.0    BrkFace            7       1710           2   \n",
       "1          1976         80.0       None            6       1262           2   \n",
       "2          2001         68.0    BrkFace            7       1786           2   \n",
       "4          2000         84.0    BrkFace            8       2198           3   \n",
       "6          2004         75.0      Stone            8       1694           2   \n",
       "...         ...          ...        ...          ...        ...         ...   \n",
       "1451       2008         78.0      Stone            8       1578           3   \n",
       "1454       2004         62.0       None            7       1221           2   \n",
       "1455       1999         62.0       None            6       1647           2   \n",
       "1456       1978         85.0      Stone            6       2073           2   \n",
       "1457       1941         66.0       None            7       2340           1   \n",
       "\n",
       "      SalePrice  is_expensive  \n",
       "0        208500             1  \n",
       "1        181500             1  \n",
       "2        223500             1  \n",
       "4        250000             1  \n",
       "6        307000             1  \n",
       "...         ...           ...  \n",
       "1451     287090             1  \n",
       "1454     185000             1  \n",
       "1455     175000             1  \n",
       "1456     210000             1  \n",
       "1457     266500             1  \n",
       "\n",
       "[728 rows x 8 columns]"
      ]
     },
     "execution_count": 15,
     "metadata": {},
     "output_type": "execute_result"
    }
   ],
   "source": [
    "#test\n",
    "houses_df[houses_df[\"SalePrice\"] > houses_df[\"SalePrice\"].median()]"
   ]
  },
  {
   "cell_type": "markdown",
   "id": "1adfe515-fb08-4e0a-99fc-5eddf8758a7c",
   "metadata": {},
   "source": [
    "### 1. HANDLING MISSING DATA"
   ]
  },
  {
   "cell_type": "code",
   "execution_count": 16,
   "id": "c8872ed3-6a3e-4d79-8004-893eca85dd63",
   "metadata": {},
   "outputs": [],
   "source": [
    "import numpy as np\n",
    "from pgds_mpp_utils import split_dataset, score_approach\n",
    "from sklearn.impute import SimpleImputer"
   ]
  },
  {
   "cell_type": "code",
   "execution_count": 17,
   "id": "44236904-06e4-44d3-8b78-1910f6739ac7",
   "metadata": {},
   "outputs": [
    {
     "data": {
      "text/plain": [
       "YearBuilt         0\n",
       "LotFrontage     259\n",
       "MasVnrType        0\n",
       "OverallQual       0\n",
       "GrLivArea         0\n",
       "GarageCars        0\n",
       "SalePrice         0\n",
       "is_expensive      0\n",
       "dtype: int64"
      ]
     },
     "execution_count": 17,
     "metadata": {},
     "output_type": "execute_result"
    }
   ],
   "source": [
    "houses_df.isnull().sum()"
   ]
  },
  {
   "cell_type": "markdown",
   "id": "f12b642c-3c70-446d-ace4-08a20d1ac2e4",
   "metadata": {},
   "source": [
    "I already worked above on MasVnrType missing values, which is explained by the feature description, meaning that some houses don't have masonry.\n",
    "This was replaced by 'None' which is also the mode.\n",
    "\n",
    "* Let's work now on LotFrontage missing values:"
   ]
  },
  {
   "cell_type": "markdown",
   "id": "1b0f0474-ddc9-4942-b3a6-be34fa1f8496",
   "metadata": {},
   "source": [
    "Start by splitting dataset to be used in future iterations:"
   ]
  },
  {
   "cell_type": "code",
   "execution_count": 18,
   "id": "93ac6dd5-ed46-464a-af71-5824c2e07eff",
   "metadata": {},
   "outputs": [],
   "source": [
    "train_df, test_df = split_dataset(houses_df, \"is_expensive\")"
   ]
  },
  {
   "cell_type": "code",
   "execution_count": 19,
   "id": "540b7127-6ef2-4a8c-9035-a38c866b3bd7",
   "metadata": {},
   "outputs": [
    {
     "data": {
      "text/html": [
       "<div>\n",
       "<style scoped>\n",
       "    .dataframe tbody tr th:only-of-type {\n",
       "        vertical-align: middle;\n",
       "    }\n",
       "\n",
       "    .dataframe tbody tr th {\n",
       "        vertical-align: top;\n",
       "    }\n",
       "\n",
       "    .dataframe thead th {\n",
       "        text-align: right;\n",
       "    }\n",
       "</style>\n",
       "<table border=\"1\" class=\"dataframe\">\n",
       "  <thead>\n",
       "    <tr style=\"text-align: right;\">\n",
       "      <th></th>\n",
       "      <th>YearBuilt</th>\n",
       "      <th>LotFrontage</th>\n",
       "      <th>MasVnrType</th>\n",
       "      <th>OverallQual</th>\n",
       "      <th>GrLivArea</th>\n",
       "      <th>GarageCars</th>\n",
       "      <th>SalePrice</th>\n",
       "      <th>is_expensive</th>\n",
       "    </tr>\n",
       "  </thead>\n",
       "  <tbody>\n",
       "    <tr>\n",
       "      <th>163</th>\n",
       "      <td>1956</td>\n",
       "      <td>55.0</td>\n",
       "      <td>None</td>\n",
       "      <td>4</td>\n",
       "      <td>882</td>\n",
       "      <td>0</td>\n",
       "      <td>103200</td>\n",
       "      <td>0</td>\n",
       "    </tr>\n",
       "    <tr>\n",
       "      <th>1414</th>\n",
       "      <td>1923</td>\n",
       "      <td>64.0</td>\n",
       "      <td>None</td>\n",
       "      <td>6</td>\n",
       "      <td>1848</td>\n",
       "      <td>2</td>\n",
       "      <td>207000</td>\n",
       "      <td>1</td>\n",
       "    </tr>\n",
       "  </tbody>\n",
       "</table>\n",
       "</div>"
      ],
      "text/plain": [
       "      YearBuilt  LotFrontage MasVnrType  OverallQual  GrLivArea  GarageCars  \\\n",
       "163        1956         55.0       None            4        882           0   \n",
       "1414       1923         64.0       None            6       1848           2   \n",
       "\n",
       "      SalePrice  is_expensive  \n",
       "163      103200             0  \n",
       "1414     207000             1  "
      ]
     },
     "execution_count": 19,
     "metadata": {},
     "output_type": "execute_result"
    }
   ],
   "source": [
    "train_df.head(2)"
   ]
  },
  {
   "cell_type": "code",
   "execution_count": 20,
   "id": "ff435460-7760-418d-b060-840e7734325e",
   "metadata": {},
   "outputs": [
    {
     "data": {
      "text/plain": [
       "count    804.000000\n",
       "mean      69.568408\n",
       "std       23.607871\n",
       "min       21.000000\n",
       "25%       59.000000\n",
       "50%       69.000000\n",
       "75%       80.000000\n",
       "max      313.000000\n",
       "Name: LotFrontage, dtype: float64"
      ]
     },
     "execution_count": 20,
     "metadata": {},
     "output_type": "execute_result"
    }
   ],
   "source": [
    "train_df.LotFrontage.describe()"
   ]
  },
  {
   "cell_type": "code",
   "execution_count": 21,
   "id": "918bd0af-ab22-4757-bf17-49c110411cc4",
   "metadata": {},
   "outputs": [
    {
     "data": {
      "text/plain": [
       "((978, 8), (482, 8))"
      ]
     },
     "execution_count": 21,
     "metadata": {},
     "output_type": "execute_result"
    }
   ],
   "source": [
    "train_df.shape, test_df.shape"
   ]
  },
  {
   "cell_type": "code",
   "execution_count": 22,
   "id": "f25b1ff3-49f8-41e3-8585-9a914ae3185f",
   "metadata": {},
   "outputs": [
    {
     "data": {
      "text/plain": [
       "YearBuilt        0.000000\n",
       "LotFrontage     17.791411\n",
       "MasVnrType       0.000000\n",
       "OverallQual      0.000000\n",
       "GrLivArea        0.000000\n",
       "GarageCars       0.000000\n",
       "SalePrice        0.000000\n",
       "is_expensive     0.000000\n",
       "dtype: float64"
      ]
     },
     "execution_count": 22,
     "metadata": {},
     "output_type": "execute_result"
    }
   ],
   "source": [
    "train_df.isnull().mean()*100"
   ]
  },
  {
   "cell_type": "markdown",
   "id": "6fc102c3-ffb5-4729-b337-28e66ad76adc",
   "metadata": {},
   "source": [
    "**1.1 ENCODING MISSING VALUE WITH VALUE TOKEN: SCORE 62%**"
   ]
  },
  {
   "cell_type": "code",
   "execution_count": 23,
   "id": "515444d5-ad4e-4e9e-bf01-b4a6806088b8",
   "metadata": {},
   "outputs": [],
   "source": [
    "train_df_iteration0_1 = train_df[[\"LotFrontage\", \"YearBuilt\", \"is_expensive\"]].copy()\n",
    "test_df_iteration0_1 = test_df[[\"LotFrontage\", \"YearBuilt\", \"is_expensive\"]].copy()"
   ]
  },
  {
   "cell_type": "code",
   "execution_count": 24,
   "id": "2ac34a62-4c8e-4bd3-b0c8-caff65f083d6",
   "metadata": {},
   "outputs": [
    {
     "data": {
      "text/plain": [
       "LotFrontage     0.177914\n",
       "YearBuilt       0.000000\n",
       "is_expensive    0.000000\n",
       "dtype: float64"
      ]
     },
     "execution_count": 24,
     "metadata": {},
     "output_type": "execute_result"
    }
   ],
   "source": [
    "train_df_iteration0_1.isnull().mean()"
   ]
  },
  {
   "cell_type": "code",
   "execution_count": 25,
   "id": "27eabcfb-c0c0-4ee6-b1ca-4c2dace25ade",
   "metadata": {},
   "outputs": [],
   "source": [
    "missing_value_token = -1"
   ]
  },
  {
   "cell_type": "code",
   "execution_count": 26,
   "id": "44339e14-7853-44d6-ad88-35e6658e4176",
   "metadata": {},
   "outputs": [],
   "source": [
    "train_df_iteration0_1[\"LotFrontage\"] = train_df_iteration0_1[\"LotFrontage\"].fillna(value=missing_value_token)\n",
    "test_df_iteration0_1[\"LotFrontage\"] = test_df_iteration0_1[\"LotFrontage\"].fillna(value=missing_value_token)"
   ]
  },
  {
   "cell_type": "code",
   "execution_count": 27,
   "id": "d33e9ef3-bb3b-42f5-9ca9-03673af00d30",
   "metadata": {},
   "outputs": [
    {
     "data": {
      "text/plain": [
       "0.6203319502074689"
      ]
     },
     "execution_count": 27,
     "metadata": {},
     "output_type": "execute_result"
    }
   ],
   "source": [
    "score_approach(train_df_iteration0_1, test_df_iteration0_1, \"is_expensive\")"
   ]
  },
  {
   "cell_type": "code",
   "execution_count": 28,
   "id": "b4399cb7-3d2d-4a71-ab03-10bc023595f9",
   "metadata": {},
   "outputs": [
    {
     "data": {
      "text/plain": [
       "LotFrontage     0\n",
       "YearBuilt       0\n",
       "is_expensive    0\n",
       "dtype: int64"
      ]
     },
     "execution_count": 28,
     "metadata": {},
     "output_type": "execute_result"
    }
   ],
   "source": [
    "train_df_iteration0_1.isnull().sum()"
   ]
  },
  {
   "cell_type": "markdown",
   "id": "f5985fc6-6cdc-4df0-befe-7d2620347aa8",
   "metadata": {},
   "source": [
    "**1.2 SIMPLE IMPUTER USING MEDIAN: SCORE 63.5%**"
   ]
  },
  {
   "cell_type": "code",
   "execution_count": 29,
   "id": "7af84412-04d6-40d7-b568-8a1e55aae534",
   "metadata": {},
   "outputs": [],
   "source": [
    "train_df_iteration1_1 = train_df[[\"LotFrontage\", \"YearBuilt\", \"is_expensive\"]].copy()\n",
    "test_df_iteration1_1 = test_df[[\"LotFrontage\", \"YearBuilt\", \"is_expensive\"]].copy()"
   ]
  },
  {
   "cell_type": "code",
   "execution_count": 30,
   "id": "f8b46cc9-4363-4df6-9d4f-8ca185639af4",
   "metadata": {},
   "outputs": [],
   "source": [
    "from sklearn.impute import SimpleImputer\n",
    "imr_median = SimpleImputer(strategy='median')"
   ]
  },
  {
   "cell_type": "code",
   "execution_count": 31,
   "id": "3bc43728-d267-44d2-a6eb-c7e6908a4435",
   "metadata": {},
   "outputs": [
    {
     "data": {
      "text/plain": [
       "0.6348547717842323"
      ]
     },
     "execution_count": 31,
     "metadata": {},
     "output_type": "execute_result"
    }
   ],
   "source": [
    "train_df_iteration1_imputer1_1 = imr_median.fit_transform(train_df_iteration1_1)\n",
    "test_df_iteration1_imputer1_1 = imr_median.transform(test_df_iteration1_1)\n",
    "\n",
    "train_df_iteration1_1 = pd.DataFrame(train_df_iteration1_imputer1_1, columns = train_df_iteration1_1.columns)\n",
    "test_df_iteration1_1 = pd.DataFrame(test_df_iteration1_imputer1_1, columns = test_df_iteration1_1.columns)\n",
    "\n",
    "score_approach(train_df_iteration1_1, test_df_iteration1_1, \"is_expensive\")"
   ]
  },
  {
   "cell_type": "markdown",
   "id": "15473826-7344-4456-b4db-7fc20a7e9e88",
   "metadata": {},
   "source": [
    "**1.3 MANUAL MEDIAN IMPUT: SCORE 63.5%**"
   ]
  },
  {
   "cell_type": "code",
   "execution_count": 32,
   "id": "dd31e105-3ce7-4af7-9218-22cd5ff0a91c",
   "metadata": {},
   "outputs": [],
   "source": [
    "train_df_iteration1 = train_df[[\"LotFrontage\", \"YearBuilt\", \"is_expensive\"]].copy()\n",
    "test_df_iteration1 = test_df[[\"LotFrontage\", \"YearBuilt\", \"is_expensive\"]].copy()"
   ]
  },
  {
   "cell_type": "code",
   "execution_count": 33,
   "id": "fdd82e72-309d-41a9-b0a7-b78580d42d07",
   "metadata": {},
   "outputs": [],
   "source": [
    "median_LotFrontage = train_df_iteration1.LotFrontage.median()"
   ]
  },
  {
   "cell_type": "code",
   "execution_count": 34,
   "id": "6f0375eb-67d9-4539-8681-ff9f08979add",
   "metadata": {},
   "outputs": [
    {
     "data": {
      "text/plain": [
       "0.6348547717842323"
      ]
     },
     "execution_count": 34,
     "metadata": {},
     "output_type": "execute_result"
    }
   ],
   "source": [
    "train_df_iteration1[\"LotFrontage\"] = train_df_iteration1[\"LotFrontage\"].fillna(value=median_LotFrontage)\n",
    "test_df_iteration1[\"LotFrontage\"] = test_df_iteration1[\"LotFrontage\"].fillna(value=median_LotFrontage)\n",
    "\n",
    "score_approach(train_df_iteration1, test_df_iteration1, \"is_expensive\")"
   ]
  },
  {
   "cell_type": "markdown",
   "id": "c262537b-422f-4359-bfbc-9226b6af3c59",
   "metadata": {},
   "source": [
    "**1.3 KNN IMPUT: SCORE 63.1%**"
   ]
  },
  {
   "cell_type": "code",
   "execution_count": 35,
   "id": "c9a90130-7dca-40f6-998d-fff715b7d9de",
   "metadata": {},
   "outputs": [],
   "source": [
    "train_df_iterationknn = train_df[[\"LotFrontage\", \"YearBuilt\", \"is_expensive\"]].copy()\n",
    "test_df_iterationknn = test_df[[\"LotFrontage\", \"YearBuilt\", \"is_expensive\"]].copy()"
   ]
  },
  {
   "cell_type": "code",
   "execution_count": 36,
   "id": "a38f4019-022b-4628-9f02-e8bdc9d0a8ce",
   "metadata": {},
   "outputs": [],
   "source": [
    "from sklearn.impute import KNNImputer\n",
    "knn_imputer1 = KNNImputer(n_neighbors=2)"
   ]
  },
  {
   "cell_type": "code",
   "execution_count": 37,
   "id": "fe4e78c9-d614-4f59-a072-937797338b10",
   "metadata": {},
   "outputs": [],
   "source": [
    "train_df_iterationknn_values = knn_imputer1.fit_transform(train_df_iterationknn)\n",
    "test_df_iterationknn_values = knn_imputer1.transform(test_df_iterationknn)"
   ]
  },
  {
   "cell_type": "code",
   "execution_count": 38,
   "id": "58951329-458a-41f3-88fc-75e70adca8b5",
   "metadata": {},
   "outputs": [],
   "source": [
    "train_df_knn = pd.DataFrame(train_df_iterationknn_values, columns = train_df_iterationknn.columns)\n",
    "test_df_knn = pd.DataFrame(test_df_iterationknn_values, columns = test_df_iterationknn.columns)"
   ]
  },
  {
   "cell_type": "code",
   "execution_count": 39,
   "id": "3f37c2ce-1c3d-48a1-940f-f8cb3973a8ba",
   "metadata": {},
   "outputs": [
    {
     "data": {
      "text/plain": [
       "0.6307053941908713"
      ]
     },
     "execution_count": 39,
     "metadata": {},
     "output_type": "execute_result"
    }
   ],
   "source": [
    "score_approach(train_df_knn, test_df_knn, \"is_expensive\")"
   ]
  },
  {
   "cell_type": "markdown",
   "id": "ad3587b0-3cf1-4eca-93cc-ecdecf07a2ce",
   "metadata": {},
   "source": [
    "**--> NEW BASELINE SCORE 63.5% (train_df_iteration1, test_df_iteration1)**\n",
    "\n",
    "LotFrontage represents the linear feet of street connected to the property. Imputing missing values with the median ensures that the overall distribution of LotFrontage values remains consistent with the original data. This is crucial because the street footage is likely to vary across different neighborhoods and property types. LotFrontage also seems to have an outlier of 313 (max value) due to irregularly shaped lots or unusual neighborhood layouts. Imputing with the median is less affected by outliers compared to using a specific token like -1, which might distort the distribution and impact model performance."
   ]
  },
  {
   "cell_type": "markdown",
   "id": "185a433c-d3f1-48cd-8b02-ece930d6039a",
   "metadata": {},
   "source": [
    "### 2. ENCODING MasVnrType FEATURE WITH OHE VS. BINARY"
   ]
  },
  {
   "cell_type": "markdown",
   "id": "69d84f35-4c41-4f33-ac46-ba9686340a63",
   "metadata": {},
   "source": [
    "**2.1 ENCODING WITH OHE: SCORE 67.6%**"
   ]
  },
  {
   "cell_type": "code",
   "execution_count": 40,
   "id": "4b93280d-9cbb-466b-ae9d-f7a975721454",
   "metadata": {},
   "outputs": [],
   "source": [
    "train_df_iteration2 = train_df_iteration1.copy()\n",
    "test_df_iteration2 = test_df_iteration1.copy()"
   ]
  },
  {
   "cell_type": "code",
   "execution_count": 41,
   "id": "7a5d5aa8-f7c3-4703-9eca-5e0a24192d53",
   "metadata": {},
   "outputs": [],
   "source": [
    "train_df_iteration2[\"MasVnrType\"] = train_df[\"MasVnrType\"]\n",
    "test_df_iteration2[\"MasVnrType\"] = test_df[\"MasVnrType\"]"
   ]
  },
  {
   "cell_type": "code",
   "execution_count": 42,
   "id": "01ed7daf-9d27-42fa-950b-e08a0fc784cc",
   "metadata": {},
   "outputs": [],
   "source": [
    "from category_encoders import OneHotEncoder as OHE"
   ]
  },
  {
   "cell_type": "code",
   "execution_count": 43,
   "id": "8720b945-53f9-49da-a456-84e86c785083",
   "metadata": {},
   "outputs": [],
   "source": [
    "ohe_enc = OHE(use_cat_names = True)"
   ]
  },
  {
   "cell_type": "code",
   "execution_count": 44,
   "id": "c9ed2e05-3f69-4a96-a81b-39d3a14e9b4f",
   "metadata": {},
   "outputs": [
    {
     "data": {
      "text/plain": [
       "['None', 'BrkFace', 'Stone', 'BrkCmn']\n",
       "Categories (4, object): ['BrkFace', 'None', 'Stone', 'BrkCmn']"
      ]
     },
     "execution_count": 44,
     "metadata": {},
     "output_type": "execute_result"
    }
   ],
   "source": [
    "train_df_iteration2[\"MasVnrType\"].unique()"
   ]
  },
  {
   "cell_type": "code",
   "execution_count": 45,
   "id": "803f2cca-be3f-4c36-b3c9-a74e391fd09b",
   "metadata": {},
   "outputs": [
    {
     "data": {
      "text/plain": [
       "0"
      ]
     },
     "execution_count": 45,
     "metadata": {},
     "output_type": "execute_result"
    }
   ],
   "source": [
    "train_df_iteration2[\"MasVnrType\"].isnull().sum()"
   ]
  },
  {
   "cell_type": "code",
   "execution_count": 46,
   "id": "55073ab1-665c-4609-b444-69b6fa737ef1",
   "metadata": {},
   "outputs": [],
   "source": [
    "train_df_iteration2_ohe = ohe_enc.fit_transform(train_df_iteration2)\n",
    "test_df_iteration2_ohe = ohe_enc.transform(test_df_iteration2)"
   ]
  },
  {
   "cell_type": "code",
   "execution_count": 47,
   "id": "83c11128-7ee7-4576-978d-55659836ce9a",
   "metadata": {},
   "outputs": [
    {
     "data": {
      "text/html": [
       "<div>\n",
       "<style scoped>\n",
       "    .dataframe tbody tr th:only-of-type {\n",
       "        vertical-align: middle;\n",
       "    }\n",
       "\n",
       "    .dataframe tbody tr th {\n",
       "        vertical-align: top;\n",
       "    }\n",
       "\n",
       "    .dataframe thead th {\n",
       "        text-align: right;\n",
       "    }\n",
       "</style>\n",
       "<table border=\"1\" class=\"dataframe\">\n",
       "  <thead>\n",
       "    <tr style=\"text-align: right;\">\n",
       "      <th></th>\n",
       "      <th>LotFrontage</th>\n",
       "      <th>YearBuilt</th>\n",
       "      <th>is_expensive</th>\n",
       "      <th>MasVnrType_None</th>\n",
       "      <th>MasVnrType_BrkFace</th>\n",
       "      <th>MasVnrType_Stone</th>\n",
       "      <th>MasVnrType_BrkCmn</th>\n",
       "    </tr>\n",
       "  </thead>\n",
       "  <tbody>\n",
       "    <tr>\n",
       "      <th>163</th>\n",
       "      <td>55.0</td>\n",
       "      <td>1956</td>\n",
       "      <td>0</td>\n",
       "      <td>1</td>\n",
       "      <td>0</td>\n",
       "      <td>0</td>\n",
       "      <td>0</td>\n",
       "    </tr>\n",
       "    <tr>\n",
       "      <th>1414</th>\n",
       "      <td>64.0</td>\n",
       "      <td>1923</td>\n",
       "      <td>1</td>\n",
       "      <td>1</td>\n",
       "      <td>0</td>\n",
       "      <td>0</td>\n",
       "      <td>0</td>\n",
       "    </tr>\n",
       "  </tbody>\n",
       "</table>\n",
       "</div>"
      ],
      "text/plain": [
       "      LotFrontage  YearBuilt  is_expensive  MasVnrType_None  \\\n",
       "163          55.0       1956             0                1   \n",
       "1414         64.0       1923             1                1   \n",
       "\n",
       "      MasVnrType_BrkFace  MasVnrType_Stone  MasVnrType_BrkCmn  \n",
       "163                    0                 0                  0  \n",
       "1414                   0                 0                  0  "
      ]
     },
     "execution_count": 47,
     "metadata": {},
     "output_type": "execute_result"
    }
   ],
   "source": [
    "train_df_iteration2_ohe.head(2)"
   ]
  },
  {
   "cell_type": "code",
   "execution_count": 48,
   "id": "b5e12710-4834-4625-b09b-64e03e732f1f",
   "metadata": {},
   "outputs": [
    {
     "data": {
      "text/plain": [
       "0.6763485477178424"
      ]
     },
     "execution_count": 48,
     "metadata": {},
     "output_type": "execute_result"
    }
   ],
   "source": [
    "score_approach(train_df_iteration2_ohe, test_df_iteration2_ohe, \"is_expensive\")"
   ]
  },
  {
   "cell_type": "markdown",
   "id": "5cbfe86c-910f-47a7-8f82-e873566052bc",
   "metadata": {},
   "source": [
    "**2.1 ENCODING WITH BINARY: SCORE 67.6%**"
   ]
  },
  {
   "cell_type": "code",
   "execution_count": 49,
   "id": "3ac0a7c3-1811-45e3-8756-4053d0db8499",
   "metadata": {},
   "outputs": [],
   "source": [
    "from category_encoders import BinaryEncoder"
   ]
  },
  {
   "cell_type": "code",
   "execution_count": 50,
   "id": "5878042d-06f7-4ee2-91c8-84712ed43f84",
   "metadata": {},
   "outputs": [],
   "source": [
    "binary_encoder = BinaryEncoder()"
   ]
  },
  {
   "cell_type": "code",
   "execution_count": 51,
   "id": "b4f96e37-ec7b-4778-9974-12755e280239",
   "metadata": {},
   "outputs": [],
   "source": [
    "train_df_iteration2_binary = binary_encoder.fit_transform(train_df_iteration2)\n",
    "test_df_iteration2_binary = binary_encoder.transform(test_df_iteration2)"
   ]
  },
  {
   "cell_type": "code",
   "execution_count": 52,
   "id": "98550026-a515-47b7-8b56-1d3652170bcd",
   "metadata": {},
   "outputs": [
    {
     "data": {
      "text/html": [
       "<div>\n",
       "<style scoped>\n",
       "    .dataframe tbody tr th:only-of-type {\n",
       "        vertical-align: middle;\n",
       "    }\n",
       "\n",
       "    .dataframe tbody tr th {\n",
       "        vertical-align: top;\n",
       "    }\n",
       "\n",
       "    .dataframe thead th {\n",
       "        text-align: right;\n",
       "    }\n",
       "</style>\n",
       "<table border=\"1\" class=\"dataframe\">\n",
       "  <thead>\n",
       "    <tr style=\"text-align: right;\">\n",
       "      <th></th>\n",
       "      <th>LotFrontage</th>\n",
       "      <th>YearBuilt</th>\n",
       "      <th>is_expensive</th>\n",
       "      <th>MasVnrType_0</th>\n",
       "      <th>MasVnrType_1</th>\n",
       "      <th>MasVnrType_2</th>\n",
       "    </tr>\n",
       "  </thead>\n",
       "  <tbody>\n",
       "    <tr>\n",
       "      <th>353</th>\n",
       "      <td>60.0</td>\n",
       "      <td>1928</td>\n",
       "      <td>0</td>\n",
       "      <td>0</td>\n",
       "      <td>0</td>\n",
       "      <td>1</td>\n",
       "    </tr>\n",
       "    <tr>\n",
       "      <th>92</th>\n",
       "      <td>80.0</td>\n",
       "      <td>1921</td>\n",
       "      <td>1</td>\n",
       "      <td>0</td>\n",
       "      <td>0</td>\n",
       "      <td>1</td>\n",
       "    </tr>\n",
       "  </tbody>\n",
       "</table>\n",
       "</div>"
      ],
      "text/plain": [
       "     LotFrontage  YearBuilt  is_expensive  MasVnrType_0  MasVnrType_1  \\\n",
       "353         60.0       1928             0             0             0   \n",
       "92          80.0       1921             1             0             0   \n",
       "\n",
       "     MasVnrType_2  \n",
       "353             1  \n",
       "92              1  "
      ]
     },
     "execution_count": 52,
     "metadata": {},
     "output_type": "execute_result"
    }
   ],
   "source": [
    "test_df_iteration2_binary.head(2)"
   ]
  },
  {
   "cell_type": "code",
   "execution_count": 53,
   "id": "c31c9260-1441-4eff-8779-e9bbee224afd",
   "metadata": {},
   "outputs": [
    {
     "data": {
      "text/plain": [
       "0.6763485477178424"
      ]
     },
     "execution_count": 53,
     "metadata": {},
     "output_type": "execute_result"
    }
   ],
   "source": [
    "score_approach(train_df_iteration2_binary, test_df_iteration2_binary, \"is_expensive\")"
   ]
  },
  {
   "cell_type": "markdown",
   "id": "17084de2-8252-4118-a610-fef7a9d417f2",
   "metadata": {},
   "source": [
    "**--> NEW BASELINE SCORE: 67.6% (train_df_iteration2_ohe, test_df_iteration2_ohe)**\n",
    "\n",
    "MasVnrType has a relatively small number of unique categories. Hence, both OHE and Binary Encoding are capable of capturing the same information without significant loss of information. The resulting binary columns may not significantly differ between the two encoding methods."
   ]
  },
  {
   "cell_type": "markdown",
   "id": "990bde45-dbf5-4b67-b837-0ef8d14a896d",
   "metadata": {},
   "source": [
    "### 3. ORDINAL ENCODING OF GarageCars: SCORE 74%"
   ]
  },
  {
   "cell_type": "code",
   "execution_count": 54,
   "id": "8d5c3841-12ec-45b3-9933-e4f5fc4fd0f2",
   "metadata": {},
   "outputs": [],
   "source": [
    "train_df_iteration3 = train_df_iteration2_ohe.copy()\n",
    "test_df_iteration3 = test_df_iteration2_ohe.copy()"
   ]
  },
  {
   "cell_type": "code",
   "execution_count": 55,
   "id": "db9b74c5-a59d-465a-a4e2-f2ab72b897b2",
   "metadata": {},
   "outputs": [],
   "source": [
    "train_df_iteration3[\"GarageCars\"] = train_df[\"GarageCars\"]\n",
    "test_df_iteration3[\"GarageCars\"] = test_df[\"GarageCars\"]"
   ]
  },
  {
   "cell_type": "code",
   "execution_count": 56,
   "id": "a5787510-9499-4d32-b8a6-01b1c81ffd50",
   "metadata": {},
   "outputs": [
    {
     "data": {
      "text/plain": [
       "163     0\n",
       "1414    2\n",
       "227     1\n",
       "694     2\n",
       "1264    2\n",
       "       ..\n",
       "917     1\n",
       "777     2\n",
       "226     3\n",
       "614     0\n",
       "1274    2\n",
       "Name: GarageCars, Length: 978, dtype: int64"
      ]
     },
     "execution_count": 56,
     "metadata": {},
     "output_type": "execute_result"
    }
   ],
   "source": [
    "train_df_iteration3[\"GarageCars\"]"
   ]
  },
  {
   "cell_type": "code",
   "execution_count": 57,
   "id": "1eae413b-45f2-4fec-94ca-cb930b023e83",
   "metadata": {},
   "outputs": [
    {
     "data": {
      "text/plain": [
       "array([0, 2, 1, 3, 4], dtype=int64)"
      ]
     },
     "execution_count": 57,
     "metadata": {},
     "output_type": "execute_result"
    }
   ],
   "source": [
    "train_df_iteration3[\"GarageCars\"].unique()"
   ]
  },
  {
   "cell_type": "code",
   "execution_count": 58,
   "id": "48d311d7-2575-4b66-b0f7-fbe8b3fc099c",
   "metadata": {},
   "outputs": [],
   "source": [
    "from sklearn.preprocessing import OrdinalEncoder"
   ]
  },
  {
   "cell_type": "code",
   "execution_count": 59,
   "id": "36802b1b-2504-40eb-a9a9-4b732c6cf858",
   "metadata": {},
   "outputs": [],
   "source": [
    "ord_enc_garage = OrdinalEncoder(categories=[[\"0\", \"1\", \"2\", \"3\", \"4\"]])"
   ]
  },
  {
   "cell_type": "code",
   "execution_count": 60,
   "id": "7e15cad4-5da3-4890-a44f-f1b328d4e278",
   "metadata": {},
   "outputs": [],
   "source": [
    "train_df_iteration3[\"GarageCars\"] = ord_enc_garage.fit_transform(train_df_iteration3[[\"GarageCars\"]])\n",
    "test_df_iteration3[\"GarageCars\"] = ord_enc_garage.transform(test_df_iteration3[[\"GarageCars\"]])"
   ]
  },
  {
   "cell_type": "code",
   "execution_count": 61,
   "id": "55df3e78-3443-410d-9685-586b99140fa7",
   "metadata": {},
   "outputs": [
    {
     "data": {
      "text/html": [
       "<div>\n",
       "<style scoped>\n",
       "    .dataframe tbody tr th:only-of-type {\n",
       "        vertical-align: middle;\n",
       "    }\n",
       "\n",
       "    .dataframe tbody tr th {\n",
       "        vertical-align: top;\n",
       "    }\n",
       "\n",
       "    .dataframe thead th {\n",
       "        text-align: right;\n",
       "    }\n",
       "</style>\n",
       "<table border=\"1\" class=\"dataframe\">\n",
       "  <thead>\n",
       "    <tr style=\"text-align: right;\">\n",
       "      <th></th>\n",
       "      <th>LotFrontage</th>\n",
       "      <th>YearBuilt</th>\n",
       "      <th>is_expensive</th>\n",
       "      <th>MasVnrType_None</th>\n",
       "      <th>MasVnrType_BrkFace</th>\n",
       "      <th>MasVnrType_Stone</th>\n",
       "      <th>MasVnrType_BrkCmn</th>\n",
       "      <th>GarageCars</th>\n",
       "    </tr>\n",
       "  </thead>\n",
       "  <tbody>\n",
       "    <tr>\n",
       "      <th>353</th>\n",
       "      <td>60.0</td>\n",
       "      <td>1928</td>\n",
       "      <td>0</td>\n",
       "      <td>1</td>\n",
       "      <td>0</td>\n",
       "      <td>0</td>\n",
       "      <td>0</td>\n",
       "      <td>2.0</td>\n",
       "    </tr>\n",
       "    <tr>\n",
       "      <th>92</th>\n",
       "      <td>80.0</td>\n",
       "      <td>1921</td>\n",
       "      <td>1</td>\n",
       "      <td>1</td>\n",
       "      <td>0</td>\n",
       "      <td>0</td>\n",
       "      <td>0</td>\n",
       "      <td>2.0</td>\n",
       "    </tr>\n",
       "  </tbody>\n",
       "</table>\n",
       "</div>"
      ],
      "text/plain": [
       "     LotFrontage  YearBuilt  is_expensive  MasVnrType_None  \\\n",
       "353         60.0       1928             0                1   \n",
       "92          80.0       1921             1                1   \n",
       "\n",
       "     MasVnrType_BrkFace  MasVnrType_Stone  MasVnrType_BrkCmn  GarageCars  \n",
       "353                   0                 0                  0         2.0  \n",
       "92                    0                 0                  0         2.0  "
      ]
     },
     "execution_count": 61,
     "metadata": {},
     "output_type": "execute_result"
    }
   ],
   "source": [
    "test_df_iteration3.head(2)"
   ]
  },
  {
   "cell_type": "code",
   "execution_count": 62,
   "id": "b455b042-779e-4768-a965-947d0c6a335e",
   "metadata": {},
   "outputs": [
    {
     "data": {
      "text/plain": [
       "0.7406639004149378"
      ]
     },
     "execution_count": 62,
     "metadata": {},
     "output_type": "execute_result"
    }
   ],
   "source": [
    "score_approach(train_df_iteration3, test_df_iteration3, \"is_expensive\")"
   ]
  },
  {
   "cell_type": "markdown",
   "id": "577bd1ed-b54b-4272-a07c-2328a889fcd9",
   "metadata": {},
   "source": [
    "**--> NEW BASELINE SCORE: 74% (train_df_iteration3, test_df_iteration3)**"
   ]
  },
  {
   "cell_type": "markdown",
   "id": "fa1034e8-acb9-477a-b935-fe4198aac978",
   "metadata": {},
   "source": [
    "### 4. ORDINAL ENCODING OF OverallQual: SCORE 84.2%"
   ]
  },
  {
   "cell_type": "code",
   "execution_count": 63,
   "id": "57b8b928-f641-4508-8e8f-0a9a12fce16d",
   "metadata": {},
   "outputs": [],
   "source": [
    "train_df_iteration4 = train_df_iteration3.copy()\n",
    "test_df_iteration4 = test_df_iteration3.copy()"
   ]
  },
  {
   "cell_type": "code",
   "execution_count": 64,
   "id": "9c414b28-d783-4fc2-b775-ffa8c96bced0",
   "metadata": {},
   "outputs": [],
   "source": [
    "train_df_iteration4[\"OverallQual\"] = train_df[\"OverallQual\"]\n",
    "test_df_iteration4[\"OverallQual\"] = test_df[\"OverallQual\"]"
   ]
  },
  {
   "cell_type": "code",
   "execution_count": 65,
   "id": "7a6a5520-e9cd-4b70-a82d-5c32135c6e9f",
   "metadata": {},
   "outputs": [
    {
     "data": {
      "text/plain": [
       "array([ 4,  6,  5,  7,  8, 10,  9,  3,  2,  1], dtype=int64)"
      ]
     },
     "execution_count": 65,
     "metadata": {},
     "output_type": "execute_result"
    }
   ],
   "source": [
    "train_df_iteration4[\"OverallQual\"].unique()"
   ]
  },
  {
   "cell_type": "code",
   "execution_count": 66,
   "id": "ee3284e0-ceb7-47e0-bc8f-17b75da03ca1",
   "metadata": {},
   "outputs": [],
   "source": [
    "ord_enc = OrdinalEncoder(categories=[[\"1\", \"2\", \"3\", \"4\", \"5\", \"6\", \"7\", \"8\", \"9\", \"10\"]])"
   ]
  },
  {
   "cell_type": "code",
   "execution_count": 67,
   "id": "926733d9-2d28-4fce-9fec-c5938e177547",
   "metadata": {},
   "outputs": [],
   "source": [
    "train_df_iteration4[\"OverallQual\"] = ord_enc.fit_transform(train_df_iteration4[[\"OverallQual\"]])\n",
    "test_df_iteration4[\"OverallQual\"] = ord_enc.transform(test_df_iteration4[[\"OverallQual\"]])"
   ]
  },
  {
   "cell_type": "code",
   "execution_count": 68,
   "id": "df7d9be7-f6a5-4aa0-8566-a1107abde46f",
   "metadata": {},
   "outputs": [
    {
     "data": {
      "text/plain": [
       "0.8423236514522822"
      ]
     },
     "execution_count": 68,
     "metadata": {},
     "output_type": "execute_result"
    }
   ],
   "source": [
    "score_approach(train_df_iteration4, test_df_iteration4, \"is_expensive\")"
   ]
  },
  {
   "cell_type": "code",
   "execution_count": 69,
   "id": "ecce96ba-82f8-409a-91c7-74a816c4d224",
   "metadata": {},
   "outputs": [
    {
     "data": {
      "text/html": [
       "<div>\n",
       "<style scoped>\n",
       "    .dataframe tbody tr th:only-of-type {\n",
       "        vertical-align: middle;\n",
       "    }\n",
       "\n",
       "    .dataframe tbody tr th {\n",
       "        vertical-align: top;\n",
       "    }\n",
       "\n",
       "    .dataframe thead th {\n",
       "        text-align: right;\n",
       "    }\n",
       "</style>\n",
       "<table border=\"1\" class=\"dataframe\">\n",
       "  <thead>\n",
       "    <tr style=\"text-align: right;\">\n",
       "      <th></th>\n",
       "      <th>LotFrontage</th>\n",
       "      <th>YearBuilt</th>\n",
       "      <th>is_expensive</th>\n",
       "      <th>MasVnrType_None</th>\n",
       "      <th>MasVnrType_BrkFace</th>\n",
       "      <th>MasVnrType_Stone</th>\n",
       "      <th>MasVnrType_BrkCmn</th>\n",
       "      <th>GarageCars</th>\n",
       "      <th>OverallQual</th>\n",
       "    </tr>\n",
       "  </thead>\n",
       "  <tbody>\n",
       "    <tr>\n",
       "      <th>353</th>\n",
       "      <td>60.0</td>\n",
       "      <td>1928</td>\n",
       "      <td>0</td>\n",
       "      <td>1</td>\n",
       "      <td>0</td>\n",
       "      <td>0</td>\n",
       "      <td>0</td>\n",
       "      <td>2.0</td>\n",
       "      <td>5.0</td>\n",
       "    </tr>\n",
       "    <tr>\n",
       "      <th>92</th>\n",
       "      <td>80.0</td>\n",
       "      <td>1921</td>\n",
       "      <td>1</td>\n",
       "      <td>1</td>\n",
       "      <td>0</td>\n",
       "      <td>0</td>\n",
       "      <td>0</td>\n",
       "      <td>2.0</td>\n",
       "      <td>4.0</td>\n",
       "    </tr>\n",
       "  </tbody>\n",
       "</table>\n",
       "</div>"
      ],
      "text/plain": [
       "     LotFrontage  YearBuilt  is_expensive  MasVnrType_None  \\\n",
       "353         60.0       1928             0                1   \n",
       "92          80.0       1921             1                1   \n",
       "\n",
       "     MasVnrType_BrkFace  MasVnrType_Stone  MasVnrType_BrkCmn  GarageCars  \\\n",
       "353                   0                 0                  0         2.0   \n",
       "92                    0                 0                  0         2.0   \n",
       "\n",
       "     OverallQual  \n",
       "353          5.0  \n",
       "92           4.0  "
      ]
     },
     "execution_count": 69,
     "metadata": {},
     "output_type": "execute_result"
    }
   ],
   "source": [
    "test_df_iteration4.head(2)"
   ]
  },
  {
   "cell_type": "markdown",
   "id": "c9dec730-3c34-4659-b7cc-f3f9561be476",
   "metadata": {},
   "source": [
    "**--> NEW BASELINE SCORE: 84.2% (train_df_iteration4, test_df_iteration4)**"
   ]
  },
  {
   "cell_type": "markdown",
   "id": "3c1e7d06-f8d6-4fac-af83-027df3966cf6",
   "metadata": {},
   "source": [
    "### 5. BINNING OF YearBuilt WITH EQUAL WIDTH VS. EQUAL DEPTH (12 BINS)"
   ]
  },
  {
   "cell_type": "markdown",
   "id": "59dfa927-f283-4b0b-b7b2-b32547164ff6",
   "metadata": {},
   "source": [
    "**5.1 EQUAL WIDTH BINNING (UNIFORM): SCORE 84%**"
   ]
  },
  {
   "cell_type": "code",
   "execution_count": 70,
   "id": "5a569043-3de9-40f3-bd23-223a8a833231",
   "metadata": {},
   "outputs": [],
   "source": [
    "from sklearn.preprocessing import KBinsDiscretizer"
   ]
  },
  {
   "cell_type": "code",
   "execution_count": 71,
   "id": "3eefb119-59a6-4a71-96f9-28be1d8b49b4",
   "metadata": {},
   "outputs": [],
   "source": [
    "disc_uniform_estimator = KBinsDiscretizer(n_bins=[12], encode='ordinal', strategy='uniform')"
   ]
  },
  {
   "cell_type": "code",
   "execution_count": 72,
   "id": "05ba0549-2478-477f-81f7-4b95b45a4351",
   "metadata": {},
   "outputs": [
    {
     "name": "stderr",
     "output_type": "stream",
     "text": [
      "C:\\Users\\polin\\AppData\\Roaming\\Python\\Python312\\site-packages\\sklearn\\preprocessing\\_discretization.py:248: FutureWarning: In version 1.5 onwards, subsample=200_000 will be used by default. Set subsample explicitly to silence this warning in the mean time. Set subsample=None to disable subsampling explicitly.\n",
      "  warnings.warn(\n"
     ]
    }
   ],
   "source": [
    "train_df_iteration5 = train_df_iteration4.copy()\n",
    "train_df_iteration5[\"YearBuilt\"] = disc_uniform_estimator.fit_transform(train_df_iteration5[[\"YearBuilt\"]])\n",
    "\n",
    "test_df_iteration5 = test_df_iteration4.copy()\n",
    "test_df_iteration5[\"YearBuilt\"] = disc_uniform_estimator.transform(test_df_iteration5[[\"YearBuilt\"]])"
   ]
  },
  {
   "cell_type": "code",
   "execution_count": 73,
   "id": "ffb3cd6e-c38b-49e8-84d9-26e0a96a974d",
   "metadata": {},
   "outputs": [
    {
     "data": {
      "text/plain": [
       "0.8402489626556017"
      ]
     },
     "execution_count": 73,
     "metadata": {},
     "output_type": "execute_result"
    }
   ],
   "source": [
    "score_approach(train_df_iteration5, test_df_iteration5, \"is_expensive\")"
   ]
  },
  {
   "cell_type": "code",
   "execution_count": 74,
   "id": "cf57ffa9-45fc-48d7-b8f3-1834697acd9c",
   "metadata": {},
   "outputs": [
    {
     "data": {
      "text/html": [
       "<div>\n",
       "<style scoped>\n",
       "    .dataframe tbody tr th:only-of-type {\n",
       "        vertical-align: middle;\n",
       "    }\n",
       "\n",
       "    .dataframe tbody tr th {\n",
       "        vertical-align: top;\n",
       "    }\n",
       "\n",
       "    .dataframe thead th {\n",
       "        text-align: right;\n",
       "    }\n",
       "</style>\n",
       "<table border=\"1\" class=\"dataframe\">\n",
       "  <thead>\n",
       "    <tr style=\"text-align: right;\">\n",
       "      <th></th>\n",
       "      <th>LotFrontage</th>\n",
       "      <th>YearBuilt</th>\n",
       "      <th>is_expensive</th>\n",
       "      <th>MasVnrType_None</th>\n",
       "      <th>MasVnrType_BrkFace</th>\n",
       "      <th>MasVnrType_Stone</th>\n",
       "      <th>MasVnrType_BrkCmn</th>\n",
       "      <th>GarageCars</th>\n",
       "      <th>OverallQual</th>\n",
       "    </tr>\n",
       "  </thead>\n",
       "  <tbody>\n",
       "    <tr>\n",
       "      <th>163</th>\n",
       "      <td>55.0</td>\n",
       "      <td>7.0</td>\n",
       "      <td>0</td>\n",
       "      <td>1</td>\n",
       "      <td>0</td>\n",
       "      <td>0</td>\n",
       "      <td>0</td>\n",
       "      <td>0.0</td>\n",
       "      <td>3.0</td>\n",
       "    </tr>\n",
       "    <tr>\n",
       "      <th>1414</th>\n",
       "      <td>64.0</td>\n",
       "      <td>4.0</td>\n",
       "      <td>1</td>\n",
       "      <td>1</td>\n",
       "      <td>0</td>\n",
       "      <td>0</td>\n",
       "      <td>0</td>\n",
       "      <td>2.0</td>\n",
       "      <td>5.0</td>\n",
       "    </tr>\n",
       "  </tbody>\n",
       "</table>\n",
       "</div>"
      ],
      "text/plain": [
       "      LotFrontage  YearBuilt  is_expensive  MasVnrType_None  \\\n",
       "163          55.0        7.0             0                1   \n",
       "1414         64.0        4.0             1                1   \n",
       "\n",
       "      MasVnrType_BrkFace  MasVnrType_Stone  MasVnrType_BrkCmn  GarageCars  \\\n",
       "163                    0                 0                  0         0.0   \n",
       "1414                   0                 0                  0         2.0   \n",
       "\n",
       "      OverallQual  \n",
       "163           3.0  \n",
       "1414          5.0  "
      ]
     },
     "execution_count": 74,
     "metadata": {},
     "output_type": "execute_result"
    }
   ],
   "source": [
    "train_df_iteration5.head(2)"
   ]
  },
  {
   "cell_type": "markdown",
   "id": "32ab2e93-9d91-4724-9b5e-7f441433d2e2",
   "metadata": {},
   "source": [
    "**5.1 EQUAL DEPTH BINNING (QUANTILE): SCORE 84.2%**"
   ]
  },
  {
   "cell_type": "code",
   "execution_count": 75,
   "id": "fc3b91ea-070a-4377-9e2f-fcbd92e890a3",
   "metadata": {},
   "outputs": [],
   "source": [
    "disc_quantile_estimator = KBinsDiscretizer(n_bins=[12], encode='ordinal', strategy='quantile')"
   ]
  },
  {
   "cell_type": "code",
   "execution_count": 76,
   "id": "266acf67-19b1-42ce-944e-04c37e2cb042",
   "metadata": {},
   "outputs": [],
   "source": [
    "train_df_iteration6 = train_df_iteration4.copy()\n",
    "train_df_iteration6[\"YearBuilt\"] = disc_quantile_estimator.fit_transform(train_df_iteration6[[\"YearBuilt\"]])\n",
    "\n",
    "test_df_iteration6 = test_df_iteration4.copy()\n",
    "test_df_iteration6[\"YearBuilt\"] = disc_quantile_estimator.transform(test_df_iteration6[[\"YearBuilt\"]])"
   ]
  },
  {
   "cell_type": "code",
   "execution_count": 77,
   "id": "d3091a07-134f-43e2-b8f0-e3ada995b656",
   "metadata": {},
   "outputs": [
    {
     "data": {
      "text/plain": [
       "0.8423236514522822"
      ]
     },
     "execution_count": 77,
     "metadata": {},
     "output_type": "execute_result"
    }
   ],
   "source": [
    "score_approach(train_df_iteration6, test_df_iteration6, \"is_expensive\")"
   ]
  },
  {
   "cell_type": "code",
   "execution_count": 78,
   "id": "1405b8ed-a808-47c3-8e7d-b903bdaa49c6",
   "metadata": {},
   "outputs": [
    {
     "data": {
      "text/html": [
       "<div>\n",
       "<style scoped>\n",
       "    .dataframe tbody tr th:only-of-type {\n",
       "        vertical-align: middle;\n",
       "    }\n",
       "\n",
       "    .dataframe tbody tr th {\n",
       "        vertical-align: top;\n",
       "    }\n",
       "\n",
       "    .dataframe thead th {\n",
       "        text-align: right;\n",
       "    }\n",
       "</style>\n",
       "<table border=\"1\" class=\"dataframe\">\n",
       "  <thead>\n",
       "    <tr style=\"text-align: right;\">\n",
       "      <th></th>\n",
       "      <th>LotFrontage</th>\n",
       "      <th>YearBuilt</th>\n",
       "      <th>is_expensive</th>\n",
       "      <th>MasVnrType_None</th>\n",
       "      <th>MasVnrType_BrkFace</th>\n",
       "      <th>MasVnrType_Stone</th>\n",
       "      <th>MasVnrType_BrkCmn</th>\n",
       "      <th>GarageCars</th>\n",
       "      <th>OverallQual</th>\n",
       "    </tr>\n",
       "  </thead>\n",
       "  <tbody>\n",
       "    <tr>\n",
       "      <th>353</th>\n",
       "      <td>60.0</td>\n",
       "      <td>1.0</td>\n",
       "      <td>0</td>\n",
       "      <td>1</td>\n",
       "      <td>0</td>\n",
       "      <td>0</td>\n",
       "      <td>0</td>\n",
       "      <td>2.0</td>\n",
       "      <td>5.0</td>\n",
       "    </tr>\n",
       "    <tr>\n",
       "      <th>92</th>\n",
       "      <td>80.0</td>\n",
       "      <td>0.0</td>\n",
       "      <td>1</td>\n",
       "      <td>1</td>\n",
       "      <td>0</td>\n",
       "      <td>0</td>\n",
       "      <td>0</td>\n",
       "      <td>2.0</td>\n",
       "      <td>4.0</td>\n",
       "    </tr>\n",
       "  </tbody>\n",
       "</table>\n",
       "</div>"
      ],
      "text/plain": [
       "     LotFrontage  YearBuilt  is_expensive  MasVnrType_None  \\\n",
       "353         60.0        1.0             0                1   \n",
       "92          80.0        0.0             1                1   \n",
       "\n",
       "     MasVnrType_BrkFace  MasVnrType_Stone  MasVnrType_BrkCmn  GarageCars  \\\n",
       "353                   0                 0                  0         2.0   \n",
       "92                    0                 0                  0         2.0   \n",
       "\n",
       "     OverallQual  \n",
       "353          5.0  \n",
       "92           4.0  "
      ]
     },
     "execution_count": 78,
     "metadata": {},
     "output_type": "execute_result"
    }
   ],
   "source": [
    "test_df_iteration6.head(2)"
   ]
  },
  {
   "cell_type": "code",
   "execution_count": 79,
   "id": "44b5e6af-5587-4579-8295-d7f52f1cc605",
   "metadata": {},
   "outputs": [
    {
     "data": {
      "text/plain": [
       "YearBuilt\n",
       "2006    47\n",
       "2005    46\n",
       "2004    35\n",
       "2007    33\n",
       "2003    24\n",
       "2000    20\n",
       "1976    20\n",
       "1977    20\n",
       "1958    19\n",
       "1999    19\n",
       "1959    17\n",
       "1971    17\n",
       "1970    17\n",
       "1965    16\n",
       "1972    16\n",
       "2008    16\n",
       "2002    16\n",
       "1954    15\n",
       "2001    15\n",
       "1920    15\n",
       "1968    15\n",
       "1998    14\n",
       "2009    14\n",
       "1950    14\n",
       "1994    13\n",
       "1957    13\n",
       "1925    13\n",
       "1966    13\n",
       "1969    12\n",
       "1953    11\n",
       "1956    11\n",
       "1960    11\n",
       "1996    11\n",
       "1941    11\n",
       "1963    11\n",
       "1948    11\n",
       "1993    11\n",
       "1955    10\n",
       "1967    10\n",
       "1964    10\n",
       "1995    10\n",
       "1990     9\n",
       "1910     9\n",
       "1962     9\n",
       "1997     9\n",
       "1940     9\n",
       "1980     8\n",
       "1915     8\n",
       "1988     8\n",
       "1978     8\n",
       "Name: count, dtype: int64"
      ]
     },
     "execution_count": 79,
     "metadata": {},
     "output_type": "execute_result"
    }
   ],
   "source": [
    "train_df.YearBuilt.value_counts().head(50)"
   ]
  },
  {
   "cell_type": "markdown",
   "id": "37b0c2ea-41fb-4e9f-94ad-9d784d3afdc8",
   "metadata": {},
   "source": [
    "**--> NEW BASELINE SCORE: 84.2%, EQUAL DEPTH BINNING (train_df_iteration6, test_df_iteration6)**"
   ]
  },
  {
   "cell_type": "markdown",
   "id": "32fef611-2d74-48d8-bcb5-ec30c59f5a06",
   "metadata": {},
   "source": [
    "In the case of YearBuilt, there seems to be a higher concentration of frequency after the year 1990. Using quantile binning (79%) can effectively capture this distribution by creating bins that contain approximately the same number of instances, regardless of the range of years covered by each bin. This allows the model to focus more on the areas of the feature space where there is higher density of data points, potentially leading to better model performance.\n",
    "\n",
    "Uniform binning (78.6%), on the other hand, divides the data into bins of equal width regardless of the distribution of the data. Therefore, uniform binning may not capture the underlying patterns as effectively."
   ]
  },
  {
   "cell_type": "markdown",
   "id": "fafa3a6e-c14a-4b9f-8b9e-71cffe3db3aa",
   "metadata": {},
   "source": [
    "### 6. FEATURE SCALING FOR GrLivArea WITH MINMAXSCALER VS ZSCORE"
   ]
  },
  {
   "cell_type": "markdown",
   "id": "59eb66f9-c912-43f0-8061-206f4f85e833",
   "metadata": {},
   "source": [
    "**6.1 MINMAX SCALER: SCORE 87.3%**"
   ]
  },
  {
   "cell_type": "code",
   "execution_count": 80,
   "id": "25aa5660-6225-4ac1-9ed7-74adb1b3e060",
   "metadata": {},
   "outputs": [
    {
     "data": {
      "text/plain": [
       "count     978.000000\n",
       "mean     1512.160532\n",
       "std       519.167340\n",
       "min       334.000000\n",
       "25%      1130.250000\n",
       "50%      1466.000000\n",
       "75%      1768.000000\n",
       "max      5642.000000\n",
       "Name: GrLivArea, dtype: float64"
      ]
     },
     "execution_count": 80,
     "metadata": {},
     "output_type": "execute_result"
    }
   ],
   "source": [
    "train_df.GrLivArea.describe()"
   ]
  },
  {
   "cell_type": "code",
   "execution_count": 81,
   "id": "80a11516-6bb4-4d41-ae40-6c56e206925b",
   "metadata": {},
   "outputs": [],
   "source": [
    "train_df_iteration7 = train_df_iteration6.copy()\n",
    "test_df_iteration7 = test_df_iteration6.copy()\n",
    "\n",
    "train_df_iteration7[\"GrLivArea\"] = train_df[\"GrLivArea\"]\n",
    "test_df_iteration7[\"GrLivArea\"] = test_df[\"GrLivArea\"]\n"
   ]
  },
  {
   "cell_type": "code",
   "execution_count": 82,
   "id": "1aaa2a98-12ec-42ff-85de-6a009ad74995",
   "metadata": {},
   "outputs": [],
   "source": [
    "from sklearn.preprocessing import MinMaxScaler\n",
    "mmscaler = MinMaxScaler(feature_range=(-1, 1))"
   ]
  },
  {
   "cell_type": "code",
   "execution_count": 83,
   "id": "1c86fc61-b428-45ff-8e21-73c16d868362",
   "metadata": {},
   "outputs": [],
   "source": [
    "# Reshape the input data to a 2D array\n",
    "train_X_reshaped = train_df_iteration7[[\"GrLivArea\"]].values.reshape(-1, 1)\n",
    "test_X_reshaped = test_df_iteration7[[\"GrLivArea\"]].values.reshape(-1, 1)\n",
    "\n",
    "# Apply MinMaxScaler\n",
    "train_X_min_max_values = mmscaler.fit_transform(train_X_reshaped)\n",
    "test_X_min_max_values = mmscaler.transform(test_X_reshaped)\n"
   ]
  },
  {
   "cell_type": "code",
   "execution_count": 84,
   "id": "9ad547a7-ba28-4687-8d28-c710135dc142",
   "metadata": {},
   "outputs": [],
   "source": [
    "# Add other columns from iteration7 to the new DataFrames\n",
    "train_X_min_max_df = train_df_iteration7.drop(columns=[\"GrLivArea\"]).copy()\n",
    "train_X_min_max_df[\"GrLivArea\"] = train_X_min_max_values\n",
    "\n",
    "test_X_min_max_df = test_df_iteration7.drop(columns=[\"GrLivArea\"]).copy()\n",
    "test_X_min_max_df[\"GrLivArea\"] = test_X_min_max_values\n"
   ]
  },
  {
   "cell_type": "code",
   "execution_count": 85,
   "id": "1c865787-02aa-47c8-80aa-b21290726e23",
   "metadata": {},
   "outputs": [
    {
     "data": {
      "text/plain": [
       "0.8734439834024896"
      ]
     },
     "execution_count": 85,
     "metadata": {},
     "output_type": "execute_result"
    }
   ],
   "source": [
    "score_approach(train_X_min_max_df, test_X_min_max_df, \"is_expensive\")"
   ]
  },
  {
   "cell_type": "code",
   "execution_count": 86,
   "id": "32c5abe7-c215-4c6c-8d59-8fd9c6218c09",
   "metadata": {},
   "outputs": [
    {
     "data": {
      "text/html": [
       "<div>\n",
       "<style scoped>\n",
       "    .dataframe tbody tr th:only-of-type {\n",
       "        vertical-align: middle;\n",
       "    }\n",
       "\n",
       "    .dataframe tbody tr th {\n",
       "        vertical-align: top;\n",
       "    }\n",
       "\n",
       "    .dataframe thead th {\n",
       "        text-align: right;\n",
       "    }\n",
       "</style>\n",
       "<table border=\"1\" class=\"dataframe\">\n",
       "  <thead>\n",
       "    <tr style=\"text-align: right;\">\n",
       "      <th></th>\n",
       "      <th>LotFrontage</th>\n",
       "      <th>YearBuilt</th>\n",
       "      <th>is_expensive</th>\n",
       "      <th>MasVnrType_None</th>\n",
       "      <th>MasVnrType_BrkFace</th>\n",
       "      <th>MasVnrType_Stone</th>\n",
       "      <th>MasVnrType_BrkCmn</th>\n",
       "      <th>GarageCars</th>\n",
       "      <th>OverallQual</th>\n",
       "      <th>GrLivArea</th>\n",
       "    </tr>\n",
       "  </thead>\n",
       "  <tbody>\n",
       "    <tr>\n",
       "      <th>163</th>\n",
       "      <td>55.0</td>\n",
       "      <td>3.0</td>\n",
       "      <td>0</td>\n",
       "      <td>1</td>\n",
       "      <td>0</td>\n",
       "      <td>0</td>\n",
       "      <td>0</td>\n",
       "      <td>0.0</td>\n",
       "      <td>3.0</td>\n",
       "      <td>-0.793519</td>\n",
       "    </tr>\n",
       "    <tr>\n",
       "      <th>1414</th>\n",
       "      <td>64.0</td>\n",
       "      <td>1.0</td>\n",
       "      <td>1</td>\n",
       "      <td>1</td>\n",
       "      <td>0</td>\n",
       "      <td>0</td>\n",
       "      <td>0</td>\n",
       "      <td>2.0</td>\n",
       "      <td>5.0</td>\n",
       "      <td>-0.429540</td>\n",
       "    </tr>\n",
       "  </tbody>\n",
       "</table>\n",
       "</div>"
      ],
      "text/plain": [
       "      LotFrontage  YearBuilt  is_expensive  MasVnrType_None  \\\n",
       "163          55.0        3.0             0                1   \n",
       "1414         64.0        1.0             1                1   \n",
       "\n",
       "      MasVnrType_BrkFace  MasVnrType_Stone  MasVnrType_BrkCmn  GarageCars  \\\n",
       "163                    0                 0                  0         0.0   \n",
       "1414                   0                 0                  0         2.0   \n",
       "\n",
       "      OverallQual  GrLivArea  \n",
       "163           3.0  -0.793519  \n",
       "1414          5.0  -0.429540  "
      ]
     },
     "execution_count": 86,
     "metadata": {},
     "output_type": "execute_result"
    }
   ],
   "source": [
    "train_X_min_max_df.head(2)"
   ]
  },
  {
   "cell_type": "markdown",
   "id": "6a9aec62-f8ce-4974-bca4-83b7461b332e",
   "metadata": {},
   "source": [
    "**6.2 ZSCORE: SCORE 85.7%**"
   ]
  },
  {
   "cell_type": "code",
   "execution_count": 87,
   "id": "7d173b73-e4f8-4cab-8785-b5127f7d1dd6",
   "metadata": {},
   "outputs": [],
   "source": [
    "train_df_iteration8 = train_df_iteration6.copy()\n",
    "test_df_iteration8 = test_df_iteration6.copy()\n",
    "\n",
    "train_df_iteration8[\"GrLivArea\"] = train_df[\"GrLivArea\"]\n",
    "test_df_iteration8[\"GrLivArea\"] = test_df[\"GrLivArea\"]"
   ]
  },
  {
   "cell_type": "code",
   "execution_count": 88,
   "id": "dcf7e816-f91e-4ccd-b192-98d034e17527",
   "metadata": {},
   "outputs": [],
   "source": [
    "from sklearn.preprocessing import StandardScaler\n",
    "zscore = StandardScaler()"
   ]
  },
  {
   "cell_type": "code",
   "execution_count": 89,
   "id": "838577db-6c37-4178-807c-113d7713aa77",
   "metadata": {},
   "outputs": [],
   "source": [
    "# Reshape the input data to a 2D array\n",
    "train_zscore_reshaped = train_df_iteration8[[\"GrLivArea\"]].values.reshape(-1, 1)\n",
    "test_zscore_reshaped = test_df_iteration8[[\"GrLivArea\"]].values.reshape(-1, 1)\n",
    "\n",
    "# Apply MinMaxScaler\n",
    "train_zscore_values = zscore.fit_transform(train_zscore_reshaped)\n",
    "test_zscore_values = zscore.transform(test_zscore_reshaped)"
   ]
  },
  {
   "cell_type": "code",
   "execution_count": 90,
   "id": "7431f460-693b-49ab-a43c-69e6fc37bf92",
   "metadata": {},
   "outputs": [],
   "source": [
    "# Add other columns from iteration7 to the new DataFrames\n",
    "train_zscore_df = train_df_iteration8.drop(columns=[\"GrLivArea\"]).copy()\n",
    "train_zscore_df[\"GrLivArea\"] = train_zscore_values\n",
    "\n",
    "test_zscore_df = test_df_iteration8.drop(columns=[\"GrLivArea\"]).copy()\n",
    "test_zscore_df[\"GrLivArea\"] = test_zscore_values\n"
   ]
  },
  {
   "cell_type": "code",
   "execution_count": 91,
   "id": "df80f966-94d4-4756-8e1a-04e1b2cf197c",
   "metadata": {},
   "outputs": [
    {
     "data": {
      "text/plain": [
       "0.8568464730290456"
      ]
     },
     "execution_count": 91,
     "metadata": {},
     "output_type": "execute_result"
    }
   ],
   "source": [
    "score_approach(train_zscore_df, test_zscore_df, \"is_expensive\")"
   ]
  },
  {
   "cell_type": "markdown",
   "id": "d651e9d4-5165-49a1-bf7c-b0b1f229cc24",
   "metadata": {},
   "source": [
    "**--> NEW BASELINE SCORE: 87.3%, MINMAXSCALER (train_X_min_max_df, test_X_min_max_df)**\n",
    "\n",
    "Given the wide range of values in GrLivArea (from 334 to 5642), using MinMaxScaler can compress this range into a more manageable scale. This compression can prevent the model from being overwhelmed by large values and can improve its ability to learn from the data.\n",
    "Also, if there are outliers present in GrLivArea, MinMaxScaler might handle them better by bringing their magnitudes closer to the rest of the data range."
   ]
  },
  {
   "cell_type": "markdown",
   "id": "5669179f-dd04-48eb-980e-5af2087dc561",
   "metadata": {},
   "source": [
    "### 7. FEATURE SCALING FOR LotFrontage WITH MINMAXSCALER VS ZSCORE"
   ]
  },
  {
   "cell_type": "markdown",
   "id": "7c0e05c5-7f77-4d6d-b044-425882f6a1d6",
   "metadata": {},
   "source": [
    "**7.1 MINMAXSCALER: SCORE 87.3%**"
   ]
  },
  {
   "cell_type": "code",
   "execution_count": 92,
   "id": "ad3cf2f9-0cdf-412f-bcc3-68c85ea1f1ea",
   "metadata": {},
   "outputs": [],
   "source": [
    "train_df_iteration9 = train_X_min_max_df.copy()\n",
    "test_df_iteration9 = test_X_min_max_df.copy()"
   ]
  },
  {
   "cell_type": "code",
   "execution_count": 93,
   "id": "3a5736ef-e899-4ffc-a781-7127205a8f00",
   "metadata": {},
   "outputs": [
    {
     "data": {
      "text/plain": [
       "count    978.000000\n",
       "mean      69.467280\n",
       "std       21.403743\n",
       "min       21.000000\n",
       "25%       60.000000\n",
       "50%       69.000000\n",
       "75%       79.000000\n",
       "max      313.000000\n",
       "Name: LotFrontage, dtype: float64"
      ]
     },
     "execution_count": 93,
     "metadata": {},
     "output_type": "execute_result"
    }
   ],
   "source": [
    "train_df_iteration9.LotFrontage.describe()"
   ]
  },
  {
   "cell_type": "code",
   "execution_count": 94,
   "id": "7aa7e309-0808-44cc-9ca9-a515dcb59280",
   "metadata": {},
   "outputs": [],
   "source": [
    "from sklearn.preprocessing import MinMaxScaler\n",
    "mmscaler1 = MinMaxScaler(feature_range=(-1, 1))"
   ]
  },
  {
   "cell_type": "code",
   "execution_count": 95,
   "id": "4f89f756-5ae4-4a31-b771-407c0292eebf",
   "metadata": {},
   "outputs": [],
   "source": [
    "# Reshape the input data to a 2D array\n",
    "train_X_reshaped1 = train_df_iteration9[[\"LotFrontage\"]].values.reshape(-1, 1)\n",
    "test_X_reshaped1 = test_df_iteration9[[\"LotFrontage\"]].values.reshape(-1, 1)\n",
    "\n",
    "# Apply MinMaxScaler\n",
    "train_X_min_max_values1 = mmscaler1.fit_transform(train_X_reshaped1)\n",
    "test_X_min_max_values1 = mmscaler1.transform(test_X_reshaped1)\n"
   ]
  },
  {
   "cell_type": "code",
   "execution_count": 96,
   "id": "aafed484-7ec2-4c64-ba22-eb516b978d6e",
   "metadata": {},
   "outputs": [],
   "source": [
    "# Add other columns from iteration7 to the new DataFrames\n",
    "train_X_min_max_df1 = train_df_iteration9.drop(columns=[\"LotFrontage\"]).copy()\n",
    "train_X_min_max_df1[\"LotFrontage\"] = train_X_min_max_values1\n",
    "\n",
    "test_X_min_max_df1 = test_df_iteration9.drop(columns=[\"LotFrontage\"]).copy()\n",
    "test_X_min_max_df1[\"LotFrontage\"] = test_X_min_max_values1\n",
    "\n"
   ]
  },
  {
   "cell_type": "code",
   "execution_count": 97,
   "id": "aac8b4a6-2d16-4613-9a82-e97cb0d66281",
   "metadata": {},
   "outputs": [
    {
     "data": {
      "text/plain": [
       "0.8734439834024896"
      ]
     },
     "execution_count": 97,
     "metadata": {},
     "output_type": "execute_result"
    }
   ],
   "source": [
    "score_approach(train_X_min_max_df1, test_X_min_max_df1, \"is_expensive\")"
   ]
  },
  {
   "cell_type": "code",
   "execution_count": 98,
   "id": "4ef058ad-1055-42bb-8748-be7a529af1fb",
   "metadata": {},
   "outputs": [
    {
     "data": {
      "text/html": [
       "<div>\n",
       "<style scoped>\n",
       "    .dataframe tbody tr th:only-of-type {\n",
       "        vertical-align: middle;\n",
       "    }\n",
       "\n",
       "    .dataframe tbody tr th {\n",
       "        vertical-align: top;\n",
       "    }\n",
       "\n",
       "    .dataframe thead th {\n",
       "        text-align: right;\n",
       "    }\n",
       "</style>\n",
       "<table border=\"1\" class=\"dataframe\">\n",
       "  <thead>\n",
       "    <tr style=\"text-align: right;\">\n",
       "      <th></th>\n",
       "      <th>YearBuilt</th>\n",
       "      <th>is_expensive</th>\n",
       "      <th>MasVnrType_None</th>\n",
       "      <th>MasVnrType_BrkFace</th>\n",
       "      <th>MasVnrType_Stone</th>\n",
       "      <th>MasVnrType_BrkCmn</th>\n",
       "      <th>GarageCars</th>\n",
       "      <th>OverallQual</th>\n",
       "      <th>GrLivArea</th>\n",
       "      <th>LotFrontage</th>\n",
       "    </tr>\n",
       "  </thead>\n",
       "  <tbody>\n",
       "    <tr>\n",
       "      <th>353</th>\n",
       "      <td>1.0</td>\n",
       "      <td>0</td>\n",
       "      <td>1</td>\n",
       "      <td>0</td>\n",
       "      <td>0</td>\n",
       "      <td>0</td>\n",
       "      <td>2.0</td>\n",
       "      <td>5.0</td>\n",
       "      <td>-0.854559</td>\n",
       "      <td>-0.732877</td>\n",
       "    </tr>\n",
       "    <tr>\n",
       "      <th>92</th>\n",
       "      <td>0.0</td>\n",
       "      <td>1</td>\n",
       "      <td>1</td>\n",
       "      <td>0</td>\n",
       "      <td>0</td>\n",
       "      <td>0</td>\n",
       "      <td>2.0</td>\n",
       "      <td>4.0</td>\n",
       "      <td>-0.762622</td>\n",
       "      <td>-0.595890</td>\n",
       "    </tr>\n",
       "  </tbody>\n",
       "</table>\n",
       "</div>"
      ],
      "text/plain": [
       "     YearBuilt  is_expensive  MasVnrType_None  MasVnrType_BrkFace  \\\n",
       "353        1.0             0                1                   0   \n",
       "92         0.0             1                1                   0   \n",
       "\n",
       "     MasVnrType_Stone  MasVnrType_BrkCmn  GarageCars  OverallQual  GrLivArea  \\\n",
       "353                 0                  0         2.0          5.0  -0.854559   \n",
       "92                  0                  0         2.0          4.0  -0.762622   \n",
       "\n",
       "     LotFrontage  \n",
       "353    -0.732877  \n",
       "92     -0.595890  "
      ]
     },
     "execution_count": 98,
     "metadata": {},
     "output_type": "execute_result"
    }
   ],
   "source": [
    "test_X_min_max_df1.head(2)"
   ]
  },
  {
   "cell_type": "markdown",
   "id": "ce8fbdfc-145e-4095-b57d-4c6c5b426171",
   "metadata": {},
   "source": [
    "**7.2 ZSCORE: SCORE 83.4%**"
   ]
  },
  {
   "cell_type": "code",
   "execution_count": 99,
   "id": "1f087998-d1c1-42bd-ab92-e62eafe501a3",
   "metadata": {},
   "outputs": [],
   "source": [
    "train_df_iteration10 = train_X_min_max_df.copy()\n",
    "test_df_iteration10 = test_X_min_max_df.copy()"
   ]
  },
  {
   "cell_type": "code",
   "execution_count": 100,
   "id": "71a7fedb-5a30-43f7-a28a-320410f62498",
   "metadata": {},
   "outputs": [],
   "source": [
    "from sklearn.preprocessing import StandardScaler\n",
    "zscore1 = StandardScaler()"
   ]
  },
  {
   "cell_type": "code",
   "execution_count": 101,
   "id": "302025b1-3ec5-479a-b8ec-1f083eaa16fa",
   "metadata": {},
   "outputs": [],
   "source": [
    "# Reshape the input data to a 2D array\n",
    "train_zscore_reshaped1 = train_df_iteration10[[\"LotFrontage\"]].values.reshape(-1, 1)\n",
    "test_zscore_reshaped1 = test_df_iteration10[[\"LotFrontage\"]].values.reshape(-1, 1)\n",
    "\n",
    "# Apply MinMaxScaler\n",
    "train_zscore_values1 = zscore1.fit_transform(train_zscore_reshaped1)\n",
    "test_zscore_values1 = zscore1.transform(test_zscore_reshaped1)"
   ]
  },
  {
   "cell_type": "code",
   "execution_count": 102,
   "id": "323b7798-fa4c-47e4-9068-b5fad6b1f03d",
   "metadata": {},
   "outputs": [],
   "source": [
    "# Add other columns from iteration7 to the new DataFrames\n",
    "train_zscore_df1 = train_df_iteration10.drop(columns=[\"LotFrontage\"]).copy()\n",
    "train_zscore_df1[\"LotFrontage\"] = train_zscore_values1\n",
    "\n",
    "test_zscore_df1 = test_df_iteration10.drop(columns=[\"LotFrontage\"]).copy()\n",
    "test_zscore_df[\"LotFrontage\"] = test_zscore_values1\n"
   ]
  },
  {
   "cell_type": "code",
   "execution_count": 103,
   "id": "c903d0eb-179c-4d94-bc80-9c82bb07dbbd",
   "metadata": {},
   "outputs": [
    {
     "data": {
      "text/plain": [
       "0.8340248962655602"
      ]
     },
     "execution_count": 103,
     "metadata": {},
     "output_type": "execute_result"
    }
   ],
   "source": [
    "score_approach(train_zscore_df1, test_zscore_df, \"is_expensive\")"
   ]
  },
  {
   "cell_type": "markdown",
   "id": "1953e12e-991d-45c0-9636-7bc6c53064aa",
   "metadata": {},
   "source": [
    "**--> NEW AND LAST BASELINE: 87.3%, MINMAXSCALER (train_X_min_max_df1, test_X_min_max_df1)**\n",
    "\n",
    "Similar to GrLivArea, LotFrontage also has a wide range of values, with a minimum of 21 and a maximum of 313. By using MinMaxScaler, this wide range can be compressed into a normalized range, typically between 0 and 1. This compression makes the data more manageable for the model to learn from.\n",
    "The preservation of relative differences between data points ensures that the model can still learn meaningful patterns and relationships from the data."
   ]
  },
  {
   "cell_type": "markdown",
   "id": "ee63e93e-491b-457b-96c3-11df06b24815",
   "metadata": {},
   "source": [
    "### CONCLUSION\n",
    "\n",
    "The iterative process began with a baseline accuracy of 63.5% after addressing missing values, which significantly improved to 67.6% upon encoding the MasVnrType feature. Experimenting with feature encoding techniques showed that ordinal encoding for features like GarageCars and OverallQual led to substantial performance gains, with scores of 74% and 84.2%, respectively. Binning the YearBuilt feature using Equal Depth binning outperformed Equal Width binning, achieving a score of 84.2%. Moreover, employing MinMaxScaler for features like GrLivArea and LotFrontage yielded better results compared to ZScore scaling, achieving a noteworthy final score of 87.3%"
   ]
  },
  {
   "cell_type": "code",
   "execution_count": null,
   "id": "973a74d8-70b2-4d6a-bc48-6a5109d9eb6b",
   "metadata": {},
   "outputs": [],
   "source": []
  }
 ],
 "metadata": {
  "kernelspec": {
   "display_name": "Python 3 (ipykernel)",
   "language": "python",
   "name": "python3"
  },
  "language_info": {
   "codemirror_mode": {
    "name": "ipython",
    "version": 3
   },
   "file_extension": ".py",
   "mimetype": "text/x-python",
   "name": "python",
   "nbconvert_exporter": "python",
   "pygments_lexer": "ipython3",
   "version": "3.12.1"
  }
 },
 "nbformat": 4,
 "nbformat_minor": 5
}
